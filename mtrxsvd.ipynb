{
  "nbformat": 4,
  "nbformat_minor": 0,
  "metadata": {
    "colab": {
      "name": "mtrxsvd.ipynb",
      "provenance": [],
      "authorship_tag": "ABX9TyMjdk6DvausJhI7l4LKeBGv",
      "include_colab_link": true
    },
    "kernelspec": {
      "name": "python3",
      "display_name": "Python 3"
    },
    "language_info": {
      "name": "python"
    }
  },
  "cells": [
    {
      "cell_type": "markdown",
      "metadata": {
        "id": "view-in-github",
        "colab_type": "text"
      },
      "source": [
        "<a href=\"https://colab.research.google.com/github/NAVYALEKSHM2/Datascience/blob/main/mtrxsvd.ipynb\" target=\"_parent\"><img src=\"https://colab.research.google.com/assets/colab-badge.svg\" alt=\"Open In Colab\"/></a>"
      ]
    },
    {
      "cell_type": "code",
      "execution_count": 2,
      "metadata": {
        "colab": {
          "base_uri": "https://localhost:8080/"
        },
        "id": "2VJDHb2eCvES",
        "outputId": "e218a2bd-fde9-423e-cf18-f028b2c471f8"
      },
      "outputs": [
        {
          "output_type": "stream",
          "name": "stdout",
          "text": [
            "A: \n",
            "[[1 2]\n",
            " [3 4]\n",
            " [5 6]]\n",
            "\n",
            "u:[[-0.2298477   0.88346102  0.40824829]\n",
            " [-0.52474482  0.24078249 -0.81649658]\n",
            " [-0.81964194 -0.40189603  0.40824829]] \n",
            "\n",
            "s:[9.52551809 0.51430058] \n",
            "\n",
            "vt:[[-0.61962948 -0.78489445]\n",
            " [-0.78489445  0.61962948]] \n"
          ]
        }
      ],
      "source": [
        "from numpy import array \n",
        "from scipy.linalg import svd\n",
        "\n",
        "A=array([[1,2],[3,4],[5,6]])\n",
        "print(\"A: \\n%s\" %A)\n",
        "\n",
        "u,s,vt=svd(A)\n",
        "\n",
        "print(\"\\nu:%s \" %u)\n",
        "print(\"\\ns:%s \" %s)\n",
        "print(\"\\nvt:%s \" %vt)"
      ]
    }
  ]
}