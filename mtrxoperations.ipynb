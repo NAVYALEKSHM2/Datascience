{
  "nbformat": 4,
  "nbformat_minor": 0,
  "metadata": {
    "colab": {
      "name": "mtrxoperations.ipynb",
      "provenance": [],
      "authorship_tag": "ABX9TyPQnpRoAE6UhHiFywDYywkM",
      "include_colab_link": true
    },
    "kernelspec": {
      "name": "python3",
      "display_name": "Python 3"
    },
    "language_info": {
      "name": "python"
    }
  },
  "cells": [
    {
      "cell_type": "markdown",
      "metadata": {
        "id": "view-in-github",
        "colab_type": "text"
      },
      "source": [
        "<a href=\"https://colab.research.google.com/github/NAVYALEKSHM2/Datascience/blob/main/mtrxoperations.ipynb\" target=\"_parent\"><img src=\"https://colab.research.google.com/assets/colab-badge.svg\" alt=\"Open In Colab\"/></a>"
      ]
    },
    {
      "cell_type": "code",
      "execution_count": 3,
      "metadata": {
        "colab": {
          "base_uri": "https://localhost:8080/"
        },
        "id": "FlFpuAY3-FE1",
        "outputId": "f3d1dc62-c4c6-430b-ca5e-d4102380b2d0"
      },
      "outputs": [
        {
          "output_type": "stream",
          "name": "stdout",
          "text": [
            "type: <class 'numpy.ndarray'>\n",
            "shape: 3\n",
            "\n",
            "Array a= \n",
            "[1 2 3]\n",
            "After changing first element:\n",
            "[5 2 3]\n",
            "\n",
            " shape of b: (2, 3)\n",
            "1 2 4\n",
            "\n",
            "All zero matrix: [[0. 0.]\n",
            " [0. 0.]]\n",
            "\n",
            "All one matrix: [[1. 1.]]\n",
            "\n",
            "Identity matrix: [[1. 0.]\n",
            " [0. 1.]]\n",
            "\n",
            "Random matrix: [[1. 0.]\n",
            " [0. 1.]]\n",
            "Vectorized Sum \n",
            " \n",
            "Array x:\n",
            " [[1 2]\n",
            " [3 4]]\n",
            "\n",
            "sum : 10\n",
            "Sum axis=0 :[4 6]\n",
            "Sum axis=1 :[3 7]\n",
            "\n",
            "Dot product= [[27 30]\n",
            " [78 87]]\n",
            "\n",
            "Outer product= [[ 7  8 10 11]\n",
            " [14 16 20 22]\n",
            " [28 32 40 44]\n",
            " [35 40 50 55]]\n",
            "\n",
            "Element wise product= [[ 7 16]\n",
            " [27 40]]\n"
          ]
        }
      ],
      "source": [
        "import numpy as np\n",
        "\n",
        "a= np.array([1,2,3])\n",
        "print(\"type: %s\" %type(a))\n",
        "print(\"shape: %s\" %a.shape)\n",
        "\n",
        "print(\"\\nArray a= \")\n",
        "print(a)\n",
        "a[0]=5\n",
        "print(\"After changing first element:\")\n",
        "print(a)\n",
        "\n",
        "b=np.array([[1,2,3],[4,5,6]])\n",
        "print(\"\\n shape of b:\" ,b.shape)\n",
        "\n",
        "print(b[0,0],b[0,1],b[1,0])\n",
        "\n",
        "a=np.zeros((2,2))\n",
        "print(\"\\nAll zero matrix: %s\" %a)\n",
        "\n",
        "b=np.ones((1,2))\n",
        "print(\"\\nAll one matrix: %s\" %b)\n",
        "\n",
        "d=np.eye(2)\n",
        "print(\"\\nIdentity matrix: %s\" %d)\n",
        "\n",
        "e=np.random.random((2,2))\n",
        "print(\"\\nRandom matrix: %s\" %d)\n",
        "\n",
        "print(\"Vectorized Sum \\n \")\n",
        "x = np.array([[1,2], [3,4]])\n",
        "print(\"Array x:\\n %s\" %x)\n",
        "print(\"\\nsum : %s\" %np.sum(x))\n",
        "print(\"Sum axis=0 :%s\" %np.sum(x,axis=0))\n",
        "print(\"Sum axis=1 :%s\" %np.sum(x,axis=1))\n",
        "\n",
        "a=np.array([[1,2],[4,5]])\n",
        "b=np.array([[7,8],[10,11]])\n",
        "dp=np.dot(a,b)\n",
        "print(\"\\nDot product= %s\" %dp)\n",
        "\n",
        "a=np.array([[1,2],[4,5]])\n",
        "b=np.array([[7,8],[10,11]])\n",
        "op=np.outer(a,b)\n",
        "print(\"\\nOuter product= %s\" %op)\n",
        "\n",
        "a=np.array([[1,2],[3,4]])\n",
        "b=np.array([[7,8],[9,10]])\n",
        "ep=np.multiply(a,b)\n",
        "print(\"\\nElement wise product= %s\" %ep)\n",
        "\n"
      ]
    }
  ]
}