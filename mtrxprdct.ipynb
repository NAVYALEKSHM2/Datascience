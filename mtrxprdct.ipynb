{
  "nbformat": 4,
  "nbformat_minor": 0,
  "metadata": {
    "colab": {
      "name": "mtrxprdct.ipynb",
      "provenance": [],
      "authorship_tag": "ABX9TyPk0UDHETFWHbNTseIRUhGX",
      "include_colab_link": true
    },
    "kernelspec": {
      "name": "python3",
      "display_name": "Python 3"
    },
    "language_info": {
      "name": "python"
    }
  },
  "cells": [
    {
      "cell_type": "markdown",
      "metadata": {
        "id": "view-in-github",
        "colab_type": "text"
      },
      "source": [
        "<a href=\"https://colab.research.google.com/github/NAVYALEKSHM2/Datascience/blob/main/mtrxprdct.ipynb\" target=\"_parent\"><img src=\"https://colab.research.google.com/assets/colab-badge.svg\" alt=\"Open In Colab\"/></a>"
      ]
    },
    {
      "cell_type": "code",
      "execution_count": 8,
      "metadata": {
        "colab": {
          "base_uri": "https://localhost:8080/"
        },
        "id": "d0aWXZWr3h7k",
        "outputId": "1041168f-92cd-45e7-f7be-6a8ad2175f9d"
      },
      "outputs": [
        {
          "output_type": "stream",
          "name": "stdout",
          "text": [
            "Dot product: 333283335000\n",
            "\n",
            "Outer product: [[       0        0        0 ...        0        0        0]\n",
            " [       0        1        2 ...     9997     9998     9999]\n",
            " [       0        2        4 ...    19994    19996    19998]\n",
            " ...\n",
            " [       0     9997    19994 ... 99940009 99950006 99960003]\n",
            " [       0     9998    19996 ... 99950006 99960004 99970002]\n",
            " [       0     9999    19998 ... 99960003 99970002 99980001]]\n",
            "\n",
            "Element wise product: [       0        1        4 ... 99940009 99960004 99980001]\n",
            "\n"
          ]
        }
      ],
      "source": [
        "import numpy as np\n",
        "a=np.arange(10000)\n",
        "b=np.arange(10000)\n",
        "\n",
        "\n",
        "dp=np.dot(a,b)\n",
        "print(\"Dot product: %s\\n\" %dp)\n",
        "\n",
        "op=np.outer(a,b)\n",
        "print(\"Outer product: %s\\n\" %op)\n",
        "\n",
        "ep=np.multiply(a,b)\n",
        "print(\"Element wise product: %s\\n\" %ep)"
      ]
    },
    {
      "cell_type": "code",
      "source": [
        "#DOT PRODUCT\n",
        "import numpy as np\n",
        "\n",
        "a=np.array([[1,2],[3,4]])\n",
        "b=np.array([[7,8],[9,10]])\n",
        "\n",
        "dp=np.dot(a,b)\n",
        "print(\"Dot product= %s\" %dp)\n"
      ],
      "metadata": {
        "colab": {
          "base_uri": "https://localhost:8080/"
        },
        "id": "QN5a8aci4xMG",
        "outputId": "3d10b293-297c-42d1-d227-0ce9d170eb3d"
      },
      "execution_count": 7,
      "outputs": [
        {
          "output_type": "stream",
          "name": "stdout",
          "text": [
            "Dot product= [[25 28]\n",
            " [57 64]]\n"
          ]
        }
      ]
    },
    {
      "cell_type": "code",
      "source": [
        "#OUTER PRODUCT\n",
        "import numpy as np\n",
        "\n",
        "a=np.array([[1,2],[3,4]])\n",
        "b=np.array([[7,8],[9,10]])\n",
        "\n",
        "op=np.outer(a,b)\n",
        "print(\"Outer product= %s\" %op)\n"
      ],
      "metadata": {
        "colab": {
          "base_uri": "https://localhost:8080/"
        },
        "id": "SRRPooN27bp9",
        "outputId": "818c0698-a63e-4176-dab7-fd77ba38079a"
      },
      "execution_count": 6,
      "outputs": [
        {
          "output_type": "stream",
          "name": "stdout",
          "text": [
            "Outer product= [[ 7  8  9 10]\n",
            " [14 16 18 20]\n",
            " [21 24 27 30]\n",
            " [28 32 36 40]]\n"
          ]
        }
      ]
    },
    {
      "cell_type": "code",
      "source": [
        "#ELEMENT WISE PRODUCT\n",
        "\n",
        "import numpy as np\n",
        "\n",
        "a=np.array([[1,2],[3,4]])\n",
        "b=np.array([[7,8],[9,10]])\n",
        "\n",
        "ep=np.multiply(a,b)\n",
        "print(\"element wise product= %s\" %ep)"
      ],
      "metadata": {
        "colab": {
          "base_uri": "https://localhost:8080/"
        },
        "id": "rwv9PFhE8TbG",
        "outputId": "4f510dc8-3a37-4608-f984-2ce08482533f"
      },
      "execution_count": 9,
      "outputs": [
        {
          "output_type": "stream",
          "name": "stdout",
          "text": [
            "element wise product= [[ 7 16]\n",
            " [27 40]]\n"
          ]
        }
      ]
    }
  ]
}