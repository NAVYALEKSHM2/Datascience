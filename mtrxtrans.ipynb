{
  "nbformat": 4,
  "nbformat_minor": 0,
  "metadata": {
    "colab": {
      "name": "mtrxtrans.ipynb",
      "provenance": [],
      "authorship_tag": "ABX9TyPpUefnWG5R+k3kP4KWOEEq",
      "include_colab_link": true
    },
    "kernelspec": {
      "name": "python3",
      "display_name": "Python 3"
    },
    "language_info": {
      "name": "python"
    }
  },
  "cells": [
    {
      "cell_type": "markdown",
      "metadata": {
        "id": "view-in-github",
        "colab_type": "text"
      },
      "source": [
        "<a href=\"https://colab.research.google.com/github/NAVYALEKSHM2/Datascience/blob/main/mtrxtrans.ipynb\" target=\"_parent\"><img src=\"https://colab.research.google.com/assets/colab-badge.svg\" alt=\"Open In Colab\"/></a>"
      ]
    },
    {
      "cell_type": "code",
      "execution_count": 4,
      "metadata": {
        "colab": {
          "base_uri": "https://localhost:8080/"
        },
        "id": "iL-4unjxrUM2",
        "outputId": "f2a2dc03-2fa7-4aa3-ecfe-de81de41de85"
      },
      "outputs": [
        {
          "output_type": "stream",
          "name": "stdout",
          "text": [
            "MATRIX TRANSPOSE\n",
            "\n",
            "orginal array x:\n",
            "[[1 2]\n",
            " [3 4]]\n",
            "\n",
            "Transpose of the array x:\n",
            "[[1 3]\n",
            " [2 4]]\n"
          ]
        }
      ],
      "source": [
        "import numpy as np\n",
        "print(\"MATRIX TRANSPOSE\\n\")\n",
        "x = np.array([[1,2], [3,4]])\n",
        "print(\"Orginal array x:\\n%s\" %x)\n",
        "print(\"\\nTranspose of the array x:\\n%s\" %x.T)\n"
      ]
    }
  ]
}