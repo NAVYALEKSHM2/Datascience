{
  "nbformat": 4,
  "nbformat_minor": 0,
  "metadata": {
    "colab": {
      "name": "mtrxvectsum.ipynb",
      "provenance": [],
      "authorship_tag": "ABX9TyMS37Ieik9y3VoZj7khMhRR",
      "include_colab_link": true
    },
    "kernelspec": {
      "name": "python3",
      "display_name": "Python 3"
    },
    "language_info": {
      "name": "python"
    }
  },
  "cells": [
    {
      "cell_type": "markdown",
      "metadata": {
        "id": "view-in-github",
        "colab_type": "text"
      },
      "source": [
        "<a href=\"https://colab.research.google.com/github/NAVYALEKSHM2/Datascience/blob/main/mtrxvectrsum.ipynb\" target=\"_parent\"><img src=\"https://colab.research.google.com/assets/colab-badge.svg\" alt=\"Open In Colab\"/></a>"
      ]
    },
    {
      "cell_type": "code",
      "execution_count": 4,
      "metadata": {
        "colab": {
          "base_uri": "https://localhost:8080/"
        },
        "id": "9F62QseE0cst",
        "outputId": "39a8888a-d87d-41ae-9d71-825e1b3aed9d"
      },
      "outputs": [
        {
          "output_type": "stream",
          "name": "stdout",
          "text": [
            "Vectorized Sum \n",
            " \n",
            "Array x:\n",
            " [[1 2]\n",
            " [3 4]]\n",
            "\n",
            "sum : 10\n",
            "Sum axis=0 :[4 6]\n",
            "Sum axis=1 :[3 7]\n"
          ]
        }
      ],
      "source": [
        "import numpy as np\n",
        "print(\"Vectorized Sum \\n \")\n",
        "x = np.array([[1,2], [3,4]])\n",
        "print(\"Array x:\\n %s\" %x)\n",
        "print(\"\\nsum : %s\" %np.sum(x))\n",
        "print(\"Sum axis=0 :%s\" %np.sum(x,axis=0))\n",
        "print(\"Sum axis=1 :%s\" %np.sum(x,axis=1))"
      ]
    }
  ]
}